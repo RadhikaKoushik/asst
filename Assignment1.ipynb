{
  "nbformat": 4,
  "nbformat_minor": 0,
  "metadata": {
    "colab": {
      "name": "Assignment1.ipynb",
      "provenance": [],
      "collapsed_sections": [],
      "authorship_tag": "ABX9TyPAPTtOw9DAV9unzJNPPnZg",
      "include_colab_link": true
    },
    "kernelspec": {
      "name": "python3",
      "display_name": "Python 3"
    },
    "language_info": {
      "name": "python"
    }
  },
  "cells": [
    {
      "cell_type": "markdown",
      "metadata": {
        "id": "view-in-github",
        "colab_type": "text"
      },
      "source": [
        "<a href=\"https://colab.research.google.com/github/RadhikaKoushik/asst/blob/main/Assignment1.ipynb\" target=\"_parent\"><img src=\"https://colab.research.google.com/assets/colab-badge.svg\" alt=\"Open In Colab\"/></a>"
      ]
    },
    {
      "cell_type": "markdown",
      "metadata": {
        "id": "XMoRn1Pktj2r"
      },
      "source": [
        "### 1.Create 2 list with some brand names"
      ]
    },
    {
      "cell_type": "code",
      "metadata": {
        "id": "PJGDLe2-tos6"
      },
      "source": [
        "brandlist1 = [\"gucci\",\"porsche\",\"armani\",\"nike\",\"prada\",\"unilever\",\"chanel\",]\n",
        "brandlist2 = [\"dior\",\"nikon\",\"chanel\",\"unilever\",\"apple\",\"disney\",\"prada\"] "
      ],
      "execution_count": 7,
      "outputs": []
    },
    {
      "cell_type": "code",
      "metadata": {
        "colab": {
          "base_uri": "https://localhost:8080/"
        },
        "id": "D0ccEtREv-ti",
        "outputId": "a9b7a3b6-35d6-4bb0-b425-6f9fa39f845f"
      },
      "source": [
        "brandlist1"
      ],
      "execution_count": 8,
      "outputs": [
        {
          "output_type": "execute_result",
          "data": {
            "text/plain": [
              "['gucci', 'porsche', 'armani', 'nike', 'prada', 'unilever', 'chanel']"
            ]
          },
          "metadata": {
            "tags": []
          },
          "execution_count": 8
        }
      ]
    },
    {
      "cell_type": "code",
      "metadata": {
        "colab": {
          "base_uri": "https://localhost:8080/"
        },
        "id": "Nvi5dvIUwF0B",
        "outputId": "9fd56ca5-c1a1-4982-8787-7141d70dfa0d"
      },
      "source": [
        "brandlist2"
      ],
      "execution_count": 9,
      "outputs": [
        {
          "output_type": "execute_result",
          "data": {
            "text/plain": [
              "['dior', 'nikon', 'chanel', 'unilever', 'apple', 'disney', 'prada']"
            ]
          },
          "metadata": {
            "tags": []
          },
          "execution_count": 9
        }
      ]
    },
    {
      "cell_type": "code",
      "metadata": {
        "colab": {
          "base_uri": "https://localhost:8080/"
        },
        "id": "t5Ci5vxjwHUy",
        "outputId": "c20facb7-8542-4906-ae0c-48fc2bf91161"
      },
      "source": [
        "#ascending order\n",
        "sorted(brandlist1)"
      ],
      "execution_count": 10,
      "outputs": [
        {
          "output_type": "execute_result",
          "data": {
            "text/plain": [
              "['armani', 'chanel', 'gucci', 'nike', 'porsche', 'prada', 'unilever']"
            ]
          },
          "metadata": {
            "tags": []
          },
          "execution_count": 10
        }
      ]
    },
    {
      "cell_type": "code",
      "metadata": {
        "colab": {
          "base_uri": "https://localhost:8080/"
        },
        "id": "iPu-tLibw6it",
        "outputId": "2ae5463c-63c6-4d85-a585-813c72e4f2de"
      },
      "source": [
        "sorted(brandlist2)"
      ],
      "execution_count": 11,
      "outputs": [
        {
          "output_type": "execute_result",
          "data": {
            "text/plain": [
              "['apple', 'chanel', 'dior', 'disney', 'nikon', 'prada', 'unilever']"
            ]
          },
          "metadata": {
            "tags": []
          },
          "execution_count": 11
        }
      ]
    },
    {
      "cell_type": "code",
      "metadata": {
        "colab": {
          "base_uri": "https://localhost:8080/"
        },
        "id": "1npxdOrpw_6V",
        "outputId": "42d59d9c-2aa9-460d-c546-9f4a420c1e74"
      },
      "source": [
        "#descending order\n",
        "sorted(brandlist1, reverse=True)"
      ],
      "execution_count": 12,
      "outputs": [
        {
          "output_type": "execute_result",
          "data": {
            "text/plain": [
              "['unilever', 'prada', 'porsche', 'nike', 'gucci', 'chanel', 'armani']"
            ]
          },
          "metadata": {
            "tags": []
          },
          "execution_count": 12
        }
      ]
    },
    {
      "cell_type": "code",
      "metadata": {
        "colab": {
          "base_uri": "https://localhost:8080/"
        },
        "id": "5wcUYwgqxWE-",
        "outputId": "f380aa1d-33de-49e1-8379-b1eee13bc5a2"
      },
      "source": [
        "sorted(brandlist2, reverse=True)"
      ],
      "execution_count": 13,
      "outputs": [
        {
          "output_type": "execute_result",
          "data": {
            "text/plain": [
              "['unilever', 'prada', 'nikon', 'disney', 'dior', 'chanel', 'apple']"
            ]
          },
          "metadata": {
            "tags": []
          },
          "execution_count": 13
        }
      ]
    },
    {
      "cell_type": "markdown",
      "metadata": {
        "id": "ALQF0Jh7ydu9"
      },
      "source": [
        "### 2.List of overlapping brand names in both lists"
      ]
    },
    {
      "cell_type": "code",
      "metadata": {
        "colab": {
          "base_uri": "https://localhost:8080/"
        },
        "id": "22dpCc_UxcaD",
        "outputId": "6db88da1-931c-44fd-c477-052da3db1eb5"
      },
      "source": [
        "for i in brandlist1:\n",
        "  if i in brandlist2:\n",
        "    print(i)"
      ],
      "execution_count": 18,
      "outputs": [
        {
          "output_type": "stream",
          "text": [
            "prada\n",
            "unilever\n",
            "chanel\n"
          ],
          "name": "stdout"
        }
      ]
    },
    {
      "cell_type": "markdown",
      "metadata": {
        "id": "MUFseFW0zNfg"
      },
      "source": [
        "### 3.Print even numbers starting with 20 and ending with 40"
      ]
    },
    {
      "cell_type": "code",
      "metadata": {
        "colab": {
          "base_uri": "https://localhost:8080/"
        },
        "id": "2D4PSEQCzyRs",
        "outputId": "11b9e57f-9c76-42f2-e85d-6b753a42ef19"
      },
      "source": [
        "for i in range(20,41):\n",
        "  if i%2==0:\n",
        "    print(i)"
      ],
      "execution_count": 25,
      "outputs": [
        {
          "output_type": "stream",
          "text": [
            "20\n",
            "22\n",
            "24\n",
            "26\n",
            "28\n",
            "30\n",
            "32\n",
            "34\n",
            "36\n",
            "38\n",
            "40\n"
          ],
          "name": "stdout"
        }
      ]
    },
    {
      "cell_type": "code",
      "metadata": {
        "id": "o_yFH8Hs0y2H"
      },
      "source": [
        ""
      ],
      "execution_count": null,
      "outputs": []
    }
  ]
}